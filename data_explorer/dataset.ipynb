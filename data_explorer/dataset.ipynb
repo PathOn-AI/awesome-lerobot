{
 "cells": [
  {
   "cell_type": "markdown",
   "id": "9a480806-45ae-482f-b151-c1f4c1157982",
   "metadata": {},
   "source": [
    "# Data visualization using rerun\n",
    "https://github.com/rerun-io/pi0-lerobot/blob/main/notebooks/01_load_lerobot_dataset.ipynb\n"
   ]
  },
  {
   "cell_type": "code",
   "execution_count": 2,
   "id": "98db91b1-5dbe-4d47-ae23-61876695a81f",
   "metadata": {},
   "outputs": [
    {
     "name": "stdout",
     "output_type": "stream",
     "text": [
      "Die_if_unbearable() value 'hello' violates type hint <class 'int'>, as str 'hello' not instance of int.\n"
     ]
    }
   ],
   "source": [
    "from lerobot.common.datasets.lerobot_dataset import (\n",
    "    LeRobotDataset,\n",
    "    LeRobotDatasetMetadata,\n",
    ")\n",
    "from beartype.door import die_if_unbearable\n",
    "\n",
    "sample_number:int = 10\n",
    "die_if_unbearable(sample_number, int) # should not raise an exception\n",
    "\n",
    "sample_text: int = \"hello\" # doesn't raise an exception, but should\n",
    "try:\n",
    "    die_if_unbearable(sample_text, int) # will raise an exception since the type is not int\n",
    "except Exception as e:\n",
    "    print(e)"
   ]
  },
  {
   "cell_type": "code",
   "execution_count": 3,
   "id": "5ab825bc-67d6-49b0-a635-45d755432f38",
   "metadata": {},
   "outputs": [
    {
     "name": "stdout",
     "output_type": "stream",
     "text": [
      "DanqingZ/so100_test_6\n",
      "Total number of episodes: 2\n",
      "Average number of frames per episode: 447.000\n",
      "Frames per second used during data collection: 30\n",
      "Robot type: so100\n",
      "keys to access images from cameras: camera_keys=['observation.images.laptop', 'observation.images.phone']\n",
      "\n",
      "LeRobotDatasetMetadata({\n",
      "    Repository ID: 'DanqingZ/so100_test_6',\n",
      "    Total episodes: '2',\n",
      "    Total frames: '894',\n",
      "    Features: '['action', 'observation.state', 'observation.images.laptop', 'observation.images.phone', 'timestamp', 'frame_index', 'episode_index', 'index', 'task_index']',\n",
      "})',\n",
      "\n"
     ]
    }
   ],
   "source": [
    "dataset_idx:int = 5\n",
    "# die_if_unbearable(dataset_idx, int)\n",
    "\n",
    "# repo_id:str = \"lerobot/aloha_static_coffee_new\" #available_datasets[dataset_idx]\n",
    "# repo_id:str =  available_datasets[dataset_idx]\n",
    "repo_id:str = \"DanqingZ/so100_test_6\"\n",
    "\n",
    "print(repo_id)\n",
    "\n",
    "# die_if_unbearable(repo_id, str)\n",
    "\n",
    "# We can have a look and fetch its metadata to know more about it:\n",
    "ds_meta = LeRobotDatasetMetadata(repo_id)\n",
    "\n",
    "# By instantiating just this class, you can quickly access useful information about the content and the\n",
    "# structure of the dataset without downloading the actual data yet (only metadata files — which are\n",
    "# lightweight).\n",
    "total_episodes: int = ds_meta.total_episodes\n",
    "print(f\"Total number of episodes: {total_episodes}\")\n",
    "avg_frames_per_episode: float = ds_meta.total_frames / total_episodes\n",
    "print(f\"Average number of frames per episode: {avg_frames_per_episode:.3f}\")\n",
    "fps: int = ds_meta.fps\n",
    "print(f\"Frames per second used during data collection: {fps}\")\n",
    "robot_type: str = ds_meta.robot_type\n",
    "print(f\"Robot type: {robot_type}\")\n",
    "camera_keys: list[str] = ds_meta.camera_keys\n",
    "print(f\"keys to access images from cameras: {camera_keys=}\\n\")\n",
    "\n",
    "print(ds_meta)"
   ]
  },
  {
   "cell_type": "code",
   "execution_count": 4,
   "id": "b508a376-0312-4475-aa28-67ce0e69555c",
   "metadata": {},
   "outputs": [
    {
     "name": "stdout",
     "output_type": "stream",
     "text": [
      "Features:\n",
      "\n",
      "{'action': {'dtype': 'float32',\n",
      "            'names': ['main_shoulder_pan',\n",
      "                      'main_shoulder_lift',\n",
      "                      'main_elbow_flex',\n",
      "                      'main_wrist_flex',\n",
      "                      'main_wrist_roll',\n",
      "                      'main_gripper'],\n",
      "            'shape': (6,)},\n",
      " 'episode_index': {'dtype': 'int64', 'names': None, 'shape': (1,)},\n",
      " 'frame_index': {'dtype': 'int64', 'names': None, 'shape': (1,)},\n",
      " 'index': {'dtype': 'int64', 'names': None, 'shape': (1,)},\n",
      " 'observation.images.laptop': {'dtype': 'video',\n",
      "                               'info': {'has_audio': False,\n",
      "                                        'video.channels': 3,\n",
      "                                        'video.codec': 'av1',\n",
      "                                        'video.fps': 30,\n",
      "                                        'video.height': 480,\n",
      "                                        'video.is_depth_map': False,\n",
      "                                        'video.pix_fmt': 'yuv420p',\n",
      "                                        'video.width': 640},\n",
      "                               'names': ['height', 'width', 'channels'],\n",
      "                               'shape': (480, 640, 3)},\n",
      " 'observation.images.phone': {'dtype': 'video',\n",
      "                              'info': {'has_audio': False,\n",
      "                                       'video.channels': 3,\n",
      "                                       'video.codec': 'av1',\n",
      "                                       'video.fps': 30,\n",
      "                                       'video.height': 480,\n",
      "                                       'video.is_depth_map': False,\n",
      "                                       'video.pix_fmt': 'yuv420p',\n",
      "                                       'video.width': 640},\n",
      "                              'names': ['height', 'width', 'channels'],\n",
      "                              'shape': (480, 640, 3)},\n",
      " 'observation.state': {'dtype': 'float32',\n",
      "                       'names': ['main_shoulder_pan',\n",
      "                                 'main_shoulder_lift',\n",
      "                                 'main_elbow_flex',\n",
      "                                 'main_wrist_flex',\n",
      "                                 'main_wrist_roll',\n",
      "                                 'main_gripper'],\n",
      "                       'shape': (6,)},\n",
      " 'task_index': {'dtype': 'int64', 'names': None, 'shape': (1,)},\n",
      " 'timestamp': {'dtype': 'float32', 'names': None, 'shape': (1,)}}\n"
     ]
    }
   ],
   "source": [
    "from pprint import pprint\n",
    "from typing import Any, Literal, NewType, TypedDict\n",
    "\n",
    "class BaseFeature(TypedDict, total=False):\n",
    "    \"\"\"\n",
    "    For dtype in {\"float32\", \"int64\", \"bool\", \"string\"}.\n",
    "    'shape' is a tuple of ints, 'names' can be None, a list, or a dict.\n",
    "    \"\"\"\n",
    "    dtype: Literal[\"float32\", \"int64\", \"bool\", \"string\"]\n",
    "    shape: tuple[int, ...]\n",
    "    names: list[str] | dict[str, list[str]] | None\n",
    "\n",
    "class VideoFeature(TypedDict, total=False):\n",
    "    \"\"\"\n",
    "    For dtype == \"video\".\n",
    "    Must include 'video_info'.\n",
    "    \"\"\"\n",
    "    dtype: Literal[\"video\"]\n",
    "    shape: tuple[int, ...]\n",
    "    names: list[str] | dict[str, list[str]] | None\n",
    "    video_info: dict[str, Any]\n",
    "\n",
    "\n",
    "Feature = BaseFeature | VideoFeature\n",
    "FeatureName = NewType('FeatureName', str)\n",
    "FeaturesDict = dict[FeatureName, Feature]\n",
    "\n",
    "features:FeaturesDict= ds_meta.features\n",
    "die_if_unbearable(features, FeaturesDict)\n",
    "print(\"Features:\\n\")\n",
    "pprint(features)"
   ]
  },
  {
   "cell_type": "code",
   "execution_count": 5,
   "id": "771dc6d9-6244-442d-b53d-5d926a09fab8",
   "metadata": {},
   "outputs": [
    {
     "name": "stdout",
     "output_type": "stream",
     "text": [
      "Selected episodes: [0, 1]\n",
      "Number of episodes selected: 2\n",
      "Number of frames selected: 894\n",
      "Number of episodes selected: 2\n",
      "Number of frames selected: 894\n",
      "LeRobotDatasetMetadata({\n",
      "    Repository ID: 'DanqingZ/so100_test_6',\n",
      "    Total episodes: '2',\n",
      "    Total frames: '894',\n",
      "    Features: '['action', 'observation.state', 'observation.images.laptop', 'observation.images.phone', 'timestamp', 'frame_index', 'episode_index', 'index', 'task_index']',\n",
      "})',\n",
      "\n",
      "Dataset({\n",
      "    features: ['action', 'observation.state', 'timestamp', 'frame_index', 'episode_index', 'index', 'task_index'],\n",
      "    num_rows: 894\n",
      "})\n"
     ]
    }
   ],
   "source": [
    "# You can then load the actual dataset from the hub.\n",
    "# Either load any subset of episodes:\n",
    "episodes: list[int] = [0, 1]\n",
    "die_if_unbearable(episodes, list[int])\n",
    "dataset = LeRobotDataset(repo_id, episodes=episodes)\n",
    "\n",
    "# And see how many frames you have:\n",
    "print(f\"Selected episodes: {dataset.episodes}\")\n",
    "print(f\"Number of episodes selected: {dataset.num_episodes}\")\n",
    "print(f\"Number of frames selected: {dataset.num_frames}\")\n",
    "\n",
    "# Or simply load the entire dataset:\n",
    "full_dataset = LeRobotDataset(repo_id)\n",
    "print(f\"Number of episodes selected: {full_dataset.num_episodes}\")\n",
    "print(f\"Number of frames selected: {full_dataset.num_frames}\")\n",
    "\n",
    "# The previous metadata class is contained in the 'meta' attribute of the dataset:\n",
    "print(full_dataset.meta)\n",
    "\n",
    "# LeRobotDataset actually wraps an underlying Hugging Face dataset\n",
    "# (see https://huggingface.co/docs/datasets for more information).\n",
    "print(full_dataset.hf_dataset)"
   ]
  },
  {
   "cell_type": "code",
   "execution_count": 6,
   "id": "17b2792e-4fec-4302-b58b-fc2963321b5c",
   "metadata": {},
   "outputs": [
    {
     "data": {
      "text/plain": [
       "dict_keys(['action', 'observation.state', 'observation.images.laptop', 'observation.images.phone', 'timestamp', 'frame_index', 'episode_index', 'index', 'task_index'])"
      ]
     },
     "execution_count": 6,
     "metadata": {},
     "output_type": "execute_result"
    }
   ],
   "source": [
    "dataset.features.keys()"
   ]
  },
  {
   "cell_type": "code",
   "execution_count": 7,
   "id": "c824553c-7ca0-4625-a090-bbaa3637f73e",
   "metadata": {},
   "outputs": [
    {
     "data": {
      "text/plain": [
       "{'dtype': 'float32',\n",
       " 'shape': (6,),\n",
       " 'names': ['main_shoulder_pan',\n",
       "  'main_shoulder_lift',\n",
       "  'main_elbow_flex',\n",
       "  'main_wrist_flex',\n",
       "  'main_wrist_roll',\n",
       "  'main_gripper']}"
      ]
     },
     "execution_count": 7,
     "metadata": {},
     "output_type": "execute_result"
    }
   ],
   "source": [
    "dataset.features[\"action\"]"
   ]
  },
  {
   "cell_type": "markdown",
   "id": "7a040d1b-ce0c-45c4-9bdf-b77cecbbf297",
   "metadata": {},
   "source": [
    "## 1. Extract task name"
   ]
  },
  {
   "cell_type": "code",
   "execution_count": 18,
   "id": "50eea9f8-bd92-4f83-9b05-1c07f6cf5670",
   "metadata": {},
   "outputs": [
    {
     "data": {
      "text/plain": [
       "894"
      ]
     },
     "execution_count": 18,
     "metadata": {},
     "output_type": "execute_result"
    }
   ],
   "source": [
    "len(dataset)"
   ]
  },
  {
   "cell_type": "code",
   "execution_count": 19,
   "id": "2a57e95b-d71b-4554-87dd-107f81d047ea",
   "metadata": {},
   "outputs": [
    {
     "name": "stdout",
     "output_type": "stream",
     "text": [
      "Grasp a lego block and put it in the bin.\n"
     ]
    }
   ],
   "source": [
    "i=0\n",
    "print(dataset[i]['task'])"
   ]
  },
  {
   "cell_type": "markdown",
   "id": "d3fd8119-7f1e-4b9e-a0f4-332e5c599e64",
   "metadata": {},
   "source": [
    "## 2. Image"
   ]
  },
  {
   "cell_type": "code",
   "execution_count": 8,
   "id": "9850bafe-c561-4aa1-867c-bdd38720291b",
   "metadata": {},
   "outputs": [
    {
     "name": "stdout",
     "output_type": "stream",
     "text": [
      "Episode 0 starts at frame 0 and ends at frame 447\n"
     ]
    },
    {
     "name": "stderr",
     "output_type": "stream",
     "text": [
      "objc[38096]: Class AVFFrameReceiver is implemented in both /opt/anaconda3/envs/lerobot/lib/python3.10/site-packages/av/.dylibs/libavdevice.61.3.100.dylib (0x11eea83a8) and /opt/anaconda3/envs/lerobot/lib/libavdevice.61.3.100.dylib (0x176280848). One of the two will be used. Which one is undefined.\n",
      "objc[38096]: Class AVFAudioReceiver is implemented in both /opt/anaconda3/envs/lerobot/lib/python3.10/site-packages/av/.dylibs/libavdevice.61.3.100.dylib (0x11eea83f8) and /opt/anaconda3/envs/lerobot/lib/libavdevice.61.3.100.dylib (0x176280898). One of the two will be used. Which one is undefined.\n"
     ]
    },
    {
     "name": "stdout",
     "output_type": "stream",
     "text": [
      "<class 'torch.Tensor'>\n",
      "torch.Size([3, 480, 640])\n",
      "torch.float32\n"
     ]
    },
    {
     "data": {
      "application/vnd.jupyter.widget-view+json": {
       "model_id": "7b7ace2dc6764d4d8b2cb8db83ea42d4",
       "version_major": 2,
       "version_minor": 1
      },
      "text/plain": [
       "Viewer()"
      ]
     },
     "metadata": {},
     "output_type": "display_data"
    }
   ],
   "source": [
    "from jaxtyping import Float32, UInt8\n",
    "import torch\n",
    "from einops import rearrange\n",
    "import numpy as np\n",
    "import rerun as rr\n",
    "\n",
    "episode_index:int = 0\n",
    "die_if_unbearable(episode_index, int)\n",
    "\n",
    "from_idx:int = dataset.episode_data_index[\"from\"][episode_index].item()\n",
    "to_idx:int = dataset.episode_data_index[\"to\"][episode_index].item()\n",
    "print(f\"Episode {episode_index} starts at frame {from_idx} and ends at frame {to_idx}\")\n",
    "# # Then we grab all the image frames from the first camera:\n",
    "camera_key: str = dataset.meta.camera_keys[0]\n",
    "die_if_unbearable(camera_key, str)\n",
    "\n",
    "# loading all frames like this can take a while, so only do the first 10 frames\n",
    "frames:list[Float32[torch.Tensor, \"3 H W\"]] = [dataset[idx][camera_key] for idx in range(from_idx, 150)]\n",
    "die_if_unbearable(frames, list[Float32[torch.Tensor, \"3 H W\"]])\n",
    "\n",
    "# The show that the frames are float32 tensors with shape (3, H, W) or in this case (3, 480, 640)\n",
    "print(type(frames[0]))\n",
    "print(frames[0].shape)\n",
    "print(frames[0].dtype)\n",
    "\n",
    "# lets visualize these images\n",
    "\n",
    "rr.init(\"lerobot images\")\n",
    "for idx, frame in enumerate(frames):\n",
    "    #rr.set_time_sequence(\"frame_idx\", idx)\n",
    "    rr.set_time(\"foo\", timestamp=idx)\n",
    "    # convert to h w 3\n",
    "    rgb_tensor:Float32[torch.Tensor, \"H W 3\"] = rearrange(frame, 'C H W -> H W C')\n",
    "    die_if_unbearable(rgb_tensor, Float32[torch.Tensor, \"H W 3\"])\n",
    "\n",
    "    rgb_array:Float32[np.ndarray, \"H W 3\"] = rgb_tensor.numpy(force=True)\n",
    "    die_if_unbearable(rgb_array, Float32[np.ndarray, \"H W 3\"])\n",
    "\n",
    "    # convert from 0-1 to 0-255 and convert to uint8\n",
    "    rgb_array:UInt8[np.ndarray, \"H W 3\"] = (rgb_array * 255).astype(np.uint8)\n",
    "    die_if_unbearable(rgb_array, UInt8[np.ndarray, \"H W 3\"])\n",
    "\n",
    "    rr.log(\"image\", rr.Image(rgb_array).compress(jpeg_quality=70))\n",
    "\n",
    "rr.notebook_show()"
   ]
  },
  {
   "cell_type": "code",
   "execution_count": 9,
   "id": "6b991be8-dd1c-4e0f-9499-96c6e23a3e8b",
   "metadata": {},
   "outputs": [],
   "source": [
    "import rerun.blueprint as rrb\n",
    "import tqdm\n",
    "from jaxtyping import Int64\n",
    "from lerobot.scripts.visualize_dataset import EpisodeSampler\n",
    "\n",
    "rr.init(\"Final notebook visualization\")\n",
    "\n",
    "dataset = LeRobotDataset(repo_id)\n",
    "\n",
    "episode_index:int = 0\n",
    "episode_sampler = EpisodeSampler(dataset, episode_index)\n",
    "\n",
    "batch_size:int = 1\n",
    "dataloader = torch.utils.data.DataLoader(\n",
    "    dataset,\n",
    "    num_workers=0,\n",
    "    batch_size=batch_size,\n",
    "    sampler=episode_sampler,\n",
    ")\n",
    "\n",
    "blueprint =rrb.Blueprint(\n",
    "    rrb.Vertical(\n",
    "        rrb.Grid(contents=[rrb.Spatial2DView(origin=key) for key in dataset.meta.camera_keys]),\n",
    "        rrb.TimeSeriesView(),\n",
    "    ),\n",
    "    collapse_panels=True\n",
    ")\n",
    "# rr.log(\"test\", rr.Scalar(0.0))\n",
    "# rr.notebook_show(blueprint=blueprint, height=500,width=1000)\n",
    "# for batch in tqdm.tqdm(dataloader, total=len(dataloader)):\n",
    "#     # iterate over the batch\n",
    "#     batch_index:Int64[torch.Tensor, \"batch_size\"] = batch[\"index\"]\n",
    "#     die_if_unbearable(batch_index, Int64[torch.Tensor, \"batch_size\"])\n",
    "#     for i in range(len(batch_index)):\n",
    "#         frame_index:int = batch[\"frame_index\"][i].item()\n",
    "#         die_if_unbearable(frame_index, int)\n",
    "#         rr.set_time_sequence(\"frame_index\", frame_index)\n",
    "\n",
    "#         timestamp:float = batch[\"timestamp\"][i].item()\n",
    "#         die_if_unbearable(timestamp, float)\n",
    "#         rr.set_time_seconds(\"timestamp\", timestamp)\n",
    "    \n",
    "#         # display each camera image\n",
    "#         for key in dataset.meta.camera_keys:\n",
    "#             # convert from tensor format to numpy\n",
    "#             rgb_tensor:Float32[torch.Tensor, \"3 H W\"] = batch[key][i]\n",
    "#             rgb_array:Float32[np.ndarray, \"H W 3\"] = rearrange(rgb_tensor, 'C H W -> H W C').numpy(force=True)\n",
    "#             rgb_array:UInt8[np.ndarray, \"H W 3\"] = (rgb_array * 255).astype(np.uint8)\n",
    "#             rr.log(\n",
    "#                 key,\n",
    "#                 rr.Image(rgb_array).compress(\n",
    "#                     jpeg_quality=95\n",
    "#                 ),\n",
    "#             )\n",
    "    \n",
    "#         # display each dimension of action space (e.g. actuators command)\n",
    "#         if \"action\" in batch:\n",
    "#             for dim_idx, val in enumerate(batch[\"action\"][i]):\n",
    "#                 rr.log(f\"action/{dim_idx}\", rr.Scalar(val.item()))\n",
    "    \n",
    "#         # display each dimension of observed state space (e.g. agent position in joint space)\n",
    "#         if \"observation.state\" in batch:\n",
    "#             for dim_idx, val in enumerate(batch[\"observation.state\"][i]):\n",
    "#                 rr.log(f\"state/{dim_idx}\", rr.Scalar(val.item()))\n",
    "    \n",
    "#         if \"next.done\" in batch:\n",
    "#             rr.log(\"next.done\", rr.Scalar(batch[\"next.done\"][i].item()))\n",
    "    \n",
    "#         if \"next.reward\" in batch:\n",
    "#             rr.log(\"next.reward\", rr.Scalar(batch[\"next.reward\"][i].item()))\n",
    "    \n",
    "#         if \"next.success\" in batch:\n",
    "#             rr.log(\"next.success\", rr.Scalar(batch[\"next.success\"][i].item()))\n",
    "            "
   ]
  },
  {
   "cell_type": "code",
   "execution_count": 10,
   "id": "d65f58ed-8c23-4ec3-b847-3fb8dbe7a741",
   "metadata": {},
   "outputs": [
    {
     "name": "stderr",
     "output_type": "stream",
     "text": [
      "  4%|████▏                                                                                                   | 18/447 [00:00<00:04, 89.88it/s]"
     ]
    },
    {
     "name": "stdout",
     "output_type": "stream",
     "text": [
      "['Grasp a lego block and put it in the bin.']\n",
      "['Grasp a lego block and put it in the bin.']\n",
      "['Grasp a lego block and put it in the bin.']\n",
      "['Grasp a lego block and put it in the bin.']\n",
      "['Grasp a lego block and put it in the bin.']\n",
      "['Grasp a lego block and put it in the bin.']\n",
      "['Grasp a lego block and put it in the bin.']\n",
      "['Grasp a lego block and put it in the bin.']\n",
      "['Grasp a lego block and put it in the bin.']\n",
      "['Grasp a lego block and put it in the bin.']\n",
      "['Grasp a lego block and put it in the bin.']\n",
      "['Grasp a lego block and put it in the bin.']\n",
      "['Grasp a lego block and put it in the bin.']\n",
      "['Grasp a lego block and put it in the bin.']\n",
      "['Grasp a lego block and put it in the bin.']\n",
      "['Grasp a lego block and put it in the bin.']\n",
      "['Grasp a lego block and put it in the bin.']\n",
      "['Grasp a lego block and put it in the bin.']\n"
     ]
    },
    {
     "name": "stderr",
     "output_type": "stream",
     "text": [
      "  6%|██████▎                                                                                                 | 27/447 [00:00<00:05, 79.62it/s]"
     ]
    },
    {
     "name": "stdout",
     "output_type": "stream",
     "text": [
      "['Grasp a lego block and put it in the bin.']\n",
      "['Grasp a lego block and put it in the bin.']\n",
      "['Grasp a lego block and put it in the bin.']\n",
      "['Grasp a lego block and put it in the bin.']\n",
      "['Grasp a lego block and put it in the bin.']\n",
      "['Grasp a lego block and put it in the bin.']\n",
      "['Grasp a lego block and put it in the bin.']\n",
      "['Grasp a lego block and put it in the bin.']\n",
      "['Grasp a lego block and put it in the bin.']\n",
      "['Grasp a lego block and put it in the bin.']\n",
      "['Grasp a lego block and put it in the bin.']\n",
      "['Grasp a lego block and put it in the bin.']\n",
      "['Grasp a lego block and put it in the bin.']\n",
      "['Grasp a lego block and put it in the bin.']\n",
      "['Grasp a lego block and put it in the bin.']\n",
      "['Grasp a lego block and put it in the bin.']\n"
     ]
    },
    {
     "name": "stderr",
     "output_type": "stream",
     "text": [
      " 10%|██████████▋                                                                                             | 46/447 [00:00<00:04, 86.40it/s]"
     ]
    },
    {
     "name": "stdout",
     "output_type": "stream",
     "text": [
      "['Grasp a lego block and put it in the bin.']\n",
      "['Grasp a lego block and put it in the bin.']\n",
      "['Grasp a lego block and put it in the bin.']\n",
      "['Grasp a lego block and put it in the bin.']\n",
      "['Grasp a lego block and put it in the bin.']\n",
      "['Grasp a lego block and put it in the bin.']\n",
      "['Grasp a lego block and put it in the bin.']\n",
      "['Grasp a lego block and put it in the bin.']\n",
      "['Grasp a lego block and put it in the bin.']\n",
      "['Grasp a lego block and put it in the bin.']\n",
      "['Grasp a lego block and put it in the bin.']\n",
      "['Grasp a lego block and put it in the bin.']\n",
      "['Grasp a lego block and put it in the bin.']\n",
      "['Grasp a lego block and put it in the bin.']\n",
      "['Grasp a lego block and put it in the bin.']\n",
      "['Grasp a lego block and put it in the bin.']\n",
      "['Grasp a lego block and put it in the bin.']\n",
      "['Grasp a lego block and put it in the bin.']\n",
      "['Grasp a lego block and put it in the bin.']\n",
      "['Grasp a lego block and put it in the bin.']\n"
     ]
    },
    {
     "name": "stderr",
     "output_type": "stream",
     "text": [
      " 15%|███████████████▊                                                                                        | 68/447 [00:00<00:03, 97.50it/s]"
     ]
    },
    {
     "name": "stdout",
     "output_type": "stream",
     "text": [
      "['Grasp a lego block and put it in the bin.']\n",
      "['Grasp a lego block and put it in the bin.']\n",
      "['Grasp a lego block and put it in the bin.']\n",
      "['Grasp a lego block and put it in the bin.']\n",
      "['Grasp a lego block and put it in the bin.']\n",
      "['Grasp a lego block and put it in the bin.']\n",
      "['Grasp a lego block and put it in the bin.']\n",
      "['Grasp a lego block and put it in the bin.']\n",
      "['Grasp a lego block and put it in the bin.']\n",
      "['Grasp a lego block and put it in the bin.']\n",
      "['Grasp a lego block and put it in the bin.']\n",
      "['Grasp a lego block and put it in the bin.']\n",
      "['Grasp a lego block and put it in the bin.']\n",
      "['Grasp a lego block and put it in the bin.']\n",
      "['Grasp a lego block and put it in the bin.']\n",
      "['Grasp a lego block and put it in the bin.']\n",
      "['Grasp a lego block and put it in the bin.']\n",
      "['Grasp a lego block and put it in the bin.']\n",
      "['Grasp a lego block and put it in the bin.']\n",
      "['Grasp a lego block and put it in the bin.']\n"
     ]
    },
    {
     "name": "stderr",
     "output_type": "stream",
     "text": [
      " 20%|████████████████████▋                                                                                   | 89/447 [00:00<00:03, 96.11it/s]"
     ]
    },
    {
     "name": "stdout",
     "output_type": "stream",
     "text": [
      "['Grasp a lego block and put it in the bin.']\n",
      "['Grasp a lego block and put it in the bin.']\n",
      "['Grasp a lego block and put it in the bin.']\n",
      "['Grasp a lego block and put it in the bin.']\n",
      "['Grasp a lego block and put it in the bin.']\n",
      "['Grasp a lego block and put it in the bin.']\n",
      "['Grasp a lego block and put it in the bin.']\n",
      "['Grasp a lego block and put it in the bin.']\n",
      "['Grasp a lego block and put it in the bin.']\n",
      "['Grasp a lego block and put it in the bin.']\n",
      "['Grasp a lego block and put it in the bin.']\n",
      "['Grasp a lego block and put it in the bin.']\n",
      "['Grasp a lego block and put it in the bin.']\n",
      "['Grasp a lego block and put it in the bin.']\n",
      "['Grasp a lego block and put it in the bin.']\n",
      "['Grasp a lego block and put it in the bin.']\n",
      "['Grasp a lego block and put it in the bin.']\n",
      "['Grasp a lego block and put it in the bin.']\n",
      "['Grasp a lego block and put it in the bin.']\n",
      "['Grasp a lego block and put it in the bin.']\n"
     ]
    },
    {
     "name": "stderr",
     "output_type": "stream",
     "text": [
      " 25%|█████████████████████████▎                                                                             | 110/447 [00:01<00:03, 97.62it/s]"
     ]
    },
    {
     "name": "stdout",
     "output_type": "stream",
     "text": [
      "['Grasp a lego block and put it in the bin.']\n",
      "['Grasp a lego block and put it in the bin.']\n",
      "['Grasp a lego block and put it in the bin.']\n",
      "['Grasp a lego block and put it in the bin.']\n",
      "['Grasp a lego block and put it in the bin.']\n",
      "['Grasp a lego block and put it in the bin.']\n",
      "['Grasp a lego block and put it in the bin.']\n",
      "['Grasp a lego block and put it in the bin.']\n",
      "['Grasp a lego block and put it in the bin.']\n",
      "['Grasp a lego block and put it in the bin.']\n",
      "['Grasp a lego block and put it in the bin.']\n",
      "['Grasp a lego block and put it in the bin.']\n",
      "['Grasp a lego block and put it in the bin.']\n",
      "['Grasp a lego block and put it in the bin.']\n",
      "['Grasp a lego block and put it in the bin.']\n",
      "['Grasp a lego block and put it in the bin.']\n",
      "['Grasp a lego block and put it in the bin.']\n",
      "['Grasp a lego block and put it in the bin.']\n",
      "['Grasp a lego block and put it in the bin.']\n",
      "['Grasp a lego block and put it in the bin.']\n",
      "['Grasp a lego block and put it in the bin.']\n"
     ]
    },
    {
     "name": "stderr",
     "output_type": "stream",
     "text": [
      " 30%|██████████████████████████████▎                                                                       | 133/447 [00:01<00:03, 103.81it/s]"
     ]
    },
    {
     "name": "stdout",
     "output_type": "stream",
     "text": [
      "['Grasp a lego block and put it in the bin.']\n",
      "['Grasp a lego block and put it in the bin.']\n",
      "['Grasp a lego block and put it in the bin.']\n",
      "['Grasp a lego block and put it in the bin.']\n",
      "['Grasp a lego block and put it in the bin.']\n",
      "['Grasp a lego block and put it in the bin.']\n",
      "['Grasp a lego block and put it in the bin.']\n",
      "['Grasp a lego block and put it in the bin.']\n",
      "['Grasp a lego block and put it in the bin.']\n",
      "['Grasp a lego block and put it in the bin.']\n",
      "['Grasp a lego block and put it in the bin.']\n",
      "['Grasp a lego block and put it in the bin.']\n",
      "['Grasp a lego block and put it in the bin.']\n",
      "['Grasp a lego block and put it in the bin.']\n",
      "['Grasp a lego block and put it in the bin.']\n",
      "['Grasp a lego block and put it in the bin.']\n",
      "['Grasp a lego block and put it in the bin.']\n",
      "['Grasp a lego block and put it in the bin.']\n",
      "['Grasp a lego block and put it in the bin.']\n",
      "['Grasp a lego block and put it in the bin.']\n",
      "['Grasp a lego block and put it in the bin.']\n",
      "['Grasp a lego block and put it in the bin.']\n",
      "['Grasp a lego block and put it in the bin.']\n"
     ]
    },
    {
     "name": "stderr",
     "output_type": "stream",
     "text": [
      " 36%|████████████████████████████████████▎                                                                 | 159/447 [00:01<00:02, 114.52it/s]"
     ]
    },
    {
     "name": "stdout",
     "output_type": "stream",
     "text": [
      "['Grasp a lego block and put it in the bin.']\n",
      "['Grasp a lego block and put it in the bin.']\n",
      "['Grasp a lego block and put it in the bin.']\n",
      "['Grasp a lego block and put it in the bin.']\n",
      "['Grasp a lego block and put it in the bin.']\n",
      "['Grasp a lego block and put it in the bin.']\n",
      "['Grasp a lego block and put it in the bin.']\n",
      "['Grasp a lego block and put it in the bin.']\n",
      "['Grasp a lego block and put it in the bin.']\n",
      "['Grasp a lego block and put it in the bin.']\n",
      "['Grasp a lego block and put it in the bin.']\n",
      "['Grasp a lego block and put it in the bin.']\n",
      "['Grasp a lego block and put it in the bin.']\n",
      "['Grasp a lego block and put it in the bin.']\n",
      "['Grasp a lego block and put it in the bin.']\n",
      "['Grasp a lego block and put it in the bin.']\n",
      "['Grasp a lego block and put it in the bin.']\n",
      "['Grasp a lego block and put it in the bin.']\n",
      "['Grasp a lego block and put it in the bin.']\n",
      "['Grasp a lego block and put it in the bin.']\n",
      "['Grasp a lego block and put it in the bin.']\n",
      "['Grasp a lego block and put it in the bin.']\n",
      "['Grasp a lego block and put it in the bin.']\n",
      "['Grasp a lego block and put it in the bin.']\n",
      "['Grasp a lego block and put it in the bin.']\n",
      "['Grasp a lego block and put it in the bin.']\n",
      "['Grasp a lego block and put it in the bin.']\n"
     ]
    },
    {
     "name": "stderr",
     "output_type": "stream",
     "text": [
      " 42%|██████████████████████████████████████████▍                                                           | 186/447 [00:01<00:02, 111.13it/s]"
     ]
    },
    {
     "name": "stdout",
     "output_type": "stream",
     "text": [
      "['Grasp a lego block and put it in the bin.']\n",
      "['Grasp a lego block and put it in the bin.']\n",
      "['Grasp a lego block and put it in the bin.']\n",
      "['Grasp a lego block and put it in the bin.']\n",
      "['Grasp a lego block and put it in the bin.']\n",
      "['Grasp a lego block and put it in the bin.']\n",
      "['Grasp a lego block and put it in the bin.']\n",
      "['Grasp a lego block and put it in the bin.']\n",
      "['Grasp a lego block and put it in the bin.']\n",
      "['Grasp a lego block and put it in the bin.']\n",
      "['Grasp a lego block and put it in the bin.']\n",
      "['Grasp a lego block and put it in the bin.']\n",
      "['Grasp a lego block and put it in the bin.']\n",
      "['Grasp a lego block and put it in the bin.']\n",
      "['Grasp a lego block and put it in the bin.']\n",
      "['Grasp a lego block and put it in the bin.']\n",
      "['Grasp a lego block and put it in the bin.']\n",
      "['Grasp a lego block and put it in the bin.']\n",
      "['Grasp a lego block and put it in the bin.']\n",
      "['Grasp a lego block and put it in the bin.']\n",
      "['Grasp a lego block and put it in the bin.']\n",
      "['Grasp a lego block and put it in the bin.']\n"
     ]
    },
    {
     "name": "stderr",
     "output_type": "stream",
     "text": [
      " 47%|███████████████████████████████████████████████▉                                                      | 210/447 [00:02<00:02, 112.11it/s]"
     ]
    },
    {
     "name": "stdout",
     "output_type": "stream",
     "text": [
      "['Grasp a lego block and put it in the bin.']\n",
      "['Grasp a lego block and put it in the bin.']\n",
      "['Grasp a lego block and put it in the bin.']\n",
      "['Grasp a lego block and put it in the bin.']\n",
      "['Grasp a lego block and put it in the bin.']\n",
      "['Grasp a lego block and put it in the bin.']\n",
      "['Grasp a lego block and put it in the bin.']\n",
      "['Grasp a lego block and put it in the bin.']\n",
      "['Grasp a lego block and put it in the bin.']\n",
      "['Grasp a lego block and put it in the bin.']\n",
      "['Grasp a lego block and put it in the bin.']\n",
      "['Grasp a lego block and put it in the bin.']\n",
      "['Grasp a lego block and put it in the bin.']\n",
      "['Grasp a lego block and put it in the bin.']\n",
      "['Grasp a lego block and put it in the bin.']\n",
      "['Grasp a lego block and put it in the bin.']\n",
      "['Grasp a lego block and put it in the bin.']\n",
      "['Grasp a lego block and put it in the bin.']\n",
      "['Grasp a lego block and put it in the bin.']\n",
      "['Grasp a lego block and put it in the bin.']\n",
      "['Grasp a lego block and put it in the bin.']\n",
      "['Grasp a lego block and put it in the bin.']\n",
      "['Grasp a lego block and put it in the bin.']\n"
     ]
    },
    {
     "name": "stderr",
     "output_type": "stream",
     "text": [
      " 52%|█████████████████████████████████████████████████████▍                                                | 234/447 [00:02<00:01, 113.76it/s]"
     ]
    },
    {
     "name": "stdout",
     "output_type": "stream",
     "text": [
      "['Grasp a lego block and put it in the bin.']\n",
      "['Grasp a lego block and put it in the bin.']\n",
      "['Grasp a lego block and put it in the bin.']\n",
      "['Grasp a lego block and put it in the bin.']\n",
      "['Grasp a lego block and put it in the bin.']\n",
      "['Grasp a lego block and put it in the bin.']\n",
      "['Grasp a lego block and put it in the bin.']\n",
      "['Grasp a lego block and put it in the bin.']\n",
      "['Grasp a lego block and put it in the bin.']\n",
      "['Grasp a lego block and put it in the bin.']\n",
      "['Grasp a lego block and put it in the bin.']\n",
      "['Grasp a lego block and put it in the bin.']\n",
      "['Grasp a lego block and put it in the bin.']\n",
      "['Grasp a lego block and put it in the bin.']\n",
      "['Grasp a lego block and put it in the bin.']\n",
      "['Grasp a lego block and put it in the bin.']\n",
      "['Grasp a lego block and put it in the bin.']\n",
      "['Grasp a lego block and put it in the bin.']\n",
      "['Grasp a lego block and put it in the bin.']\n",
      "['Grasp a lego block and put it in the bin.']\n",
      "['Grasp a lego block and put it in the bin.']\n",
      "['Grasp a lego block and put it in the bin.']\n",
      "['Grasp a lego block and put it in the bin.']\n",
      "['Grasp a lego block and put it in the bin.']\n"
     ]
    },
    {
     "name": "stderr",
     "output_type": "stream",
     "text": [
      " 58%|██████████████████████████████████████████████████████████▊                                           | 258/447 [00:02<00:01, 115.14it/s]"
     ]
    },
    {
     "name": "stdout",
     "output_type": "stream",
     "text": [
      "['Grasp a lego block and put it in the bin.']\n",
      "['Grasp a lego block and put it in the bin.']\n",
      "['Grasp a lego block and put it in the bin.']\n",
      "['Grasp a lego block and put it in the bin.']\n",
      "['Grasp a lego block and put it in the bin.']\n",
      "['Grasp a lego block and put it in the bin.']\n",
      "['Grasp a lego block and put it in the bin.']\n",
      "['Grasp a lego block and put it in the bin.']\n",
      "['Grasp a lego block and put it in the bin.']\n",
      "['Grasp a lego block and put it in the bin.']\n",
      "['Grasp a lego block and put it in the bin.']\n",
      "['Grasp a lego block and put it in the bin.']\n",
      "['Grasp a lego block and put it in the bin.']\n",
      "['Grasp a lego block and put it in the bin.']\n",
      "['Grasp a lego block and put it in the bin.']\n",
      "['Grasp a lego block and put it in the bin.']\n",
      "['Grasp a lego block and put it in the bin.']\n",
      "['Grasp a lego block and put it in the bin.']\n",
      "['Grasp a lego block and put it in the bin.']\n",
      "['Grasp a lego block and put it in the bin.']\n",
      "['Grasp a lego block and put it in the bin.']\n",
      "['Grasp a lego block and put it in the bin.']\n",
      "['Grasp a lego block and put it in the bin.']\n",
      "['Grasp a lego block and put it in the bin.']\n"
     ]
    },
    {
     "name": "stderr",
     "output_type": "stream",
     "text": [
      " 60%|█████████████████████████████████████████████████████████████▌                                        | 270/447 [00:02<00:01, 115.06it/s]"
     ]
    },
    {
     "name": "stdout",
     "output_type": "stream",
     "text": [
      "['Grasp a lego block and put it in the bin.']\n",
      "['Grasp a lego block and put it in the bin.']\n",
      "['Grasp a lego block and put it in the bin.']\n",
      "['Grasp a lego block and put it in the bin.']\n",
      "['Grasp a lego block and put it in the bin.']\n",
      "['Grasp a lego block and put it in the bin.']\n",
      "['Grasp a lego block and put it in the bin.']\n",
      "['Grasp a lego block and put it in the bin.']\n",
      "['Grasp a lego block and put it in the bin.']\n",
      "['Grasp a lego block and put it in the bin.']\n",
      "['Grasp a lego block and put it in the bin.']\n",
      "['Grasp a lego block and put it in the bin.']\n",
      "['Grasp a lego block and put it in the bin.']\n",
      "['Grasp a lego block and put it in the bin.']\n",
      "['Grasp a lego block and put it in the bin.']\n",
      "['Grasp a lego block and put it in the bin.']\n",
      "['Grasp a lego block and put it in the bin.']\n",
      "['Grasp a lego block and put it in the bin.']\n",
      "['Grasp a lego block and put it in the bin.']\n",
      "['Grasp a lego block and put it in the bin.']\n",
      "['Grasp a lego block and put it in the bin.']\n",
      "['Grasp a lego block and put it in the bin.']\n",
      "['Grasp a lego block and put it in the bin.']\n"
     ]
    },
    {
     "name": "stderr",
     "output_type": "stream",
     "text": [
      " 66%|███████████████████████████████████████████████████████████████████                                   | 294/447 [00:02<00:01, 105.94it/s]"
     ]
    },
    {
     "name": "stdout",
     "output_type": "stream",
     "text": [
      "['Grasp a lego block and put it in the bin.']\n",
      "['Grasp a lego block and put it in the bin.']\n",
      "['Grasp a lego block and put it in the bin.']\n",
      "['Grasp a lego block and put it in the bin.']\n",
      "['Grasp a lego block and put it in the bin.']\n",
      "['Grasp a lego block and put it in the bin.']\n",
      "['Grasp a lego block and put it in the bin.']\n",
      "['Grasp a lego block and put it in the bin.']\n",
      "['Grasp a lego block and put it in the bin.']\n",
      "['Grasp a lego block and put it in the bin.']\n",
      "['Grasp a lego block and put it in the bin.']\n",
      "['Grasp a lego block and put it in the bin.']\n",
      "['Grasp a lego block and put it in the bin.']\n",
      "['Grasp a lego block and put it in the bin.']\n",
      "['Grasp a lego block and put it in the bin.']\n",
      "['Grasp a lego block and put it in the bin.']\n",
      "['Grasp a lego block and put it in the bin.']\n",
      "['Grasp a lego block and put it in the bin.']\n",
      "['Grasp a lego block and put it in the bin.']\n",
      "['Grasp a lego block and put it in the bin.']\n",
      "['Grasp a lego block and put it in the bin.']\n"
     ]
    },
    {
     "name": "stderr",
     "output_type": "stream",
     "text": [
      " 71%|████████████████████████████████████████████████████████████████████████▊                             | 319/447 [00:03<00:01, 111.19it/s]"
     ]
    },
    {
     "name": "stdout",
     "output_type": "stream",
     "text": [
      "['Grasp a lego block and put it in the bin.']\n",
      "['Grasp a lego block and put it in the bin.']\n",
      "['Grasp a lego block and put it in the bin.']\n",
      "['Grasp a lego block and put it in the bin.']\n",
      "['Grasp a lego block and put it in the bin.']\n",
      "['Grasp a lego block and put it in the bin.']\n",
      "['Grasp a lego block and put it in the bin.']\n",
      "['Grasp a lego block and put it in the bin.']\n",
      "['Grasp a lego block and put it in the bin.']\n",
      "['Grasp a lego block and put it in the bin.']\n",
      "['Grasp a lego block and put it in the bin.']\n",
      "['Grasp a lego block and put it in the bin.']\n",
      "['Grasp a lego block and put it in the bin.']\n",
      "['Grasp a lego block and put it in the bin.']\n",
      "['Grasp a lego block and put it in the bin.']\n",
      "['Grasp a lego block and put it in the bin.']\n",
      "['Grasp a lego block and put it in the bin.']\n",
      "['Grasp a lego block and put it in the bin.']\n",
      "['Grasp a lego block and put it in the bin.']\n",
      "['Grasp a lego block and put it in the bin.']\n",
      "['Grasp a lego block and put it in the bin.']\n",
      "['Grasp a lego block and put it in the bin.']\n",
      "['Grasp a lego block and put it in the bin.']\n"
     ]
    },
    {
     "name": "stderr",
     "output_type": "stream",
     "text": [
      " 77%|██████████████████████████████████████████████████████████████████████████████▎                       | 343/447 [00:03<00:00, 111.63it/s]"
     ]
    },
    {
     "name": "stdout",
     "output_type": "stream",
     "text": [
      "['Grasp a lego block and put it in the bin.']\n",
      "['Grasp a lego block and put it in the bin.']\n",
      "['Grasp a lego block and put it in the bin.']\n",
      "['Grasp a lego block and put it in the bin.']\n",
      "['Grasp a lego block and put it in the bin.']\n",
      "['Grasp a lego block and put it in the bin.']\n",
      "['Grasp a lego block and put it in the bin.']\n",
      "['Grasp a lego block and put it in the bin.']\n",
      "['Grasp a lego block and put it in the bin.']\n",
      "['Grasp a lego block and put it in the bin.']\n",
      "['Grasp a lego block and put it in the bin.']\n",
      "['Grasp a lego block and put it in the bin.']\n",
      "['Grasp a lego block and put it in the bin.']\n",
      "['Grasp a lego block and put it in the bin.']\n",
      "['Grasp a lego block and put it in the bin.']\n",
      "['Grasp a lego block and put it in the bin.']\n",
      "['Grasp a lego block and put it in the bin.']\n",
      "['Grasp a lego block and put it in the bin.']\n",
      "['Grasp a lego block and put it in the bin.']\n",
      "['Grasp a lego block and put it in the bin.']\n",
      "['Grasp a lego block and put it in the bin.']\n",
      "['Grasp a lego block and put it in the bin.']\n",
      "['Grasp a lego block and put it in the bin.']\n",
      "['Grasp a lego block and put it in the bin.']\n"
     ]
    },
    {
     "name": "stderr",
     "output_type": "stream",
     "text": [
      " 82%|███████████████████████████████████████████████████████████████████████████████████▋                  | 367/447 [00:03<00:00, 111.83it/s]"
     ]
    },
    {
     "name": "stdout",
     "output_type": "stream",
     "text": [
      "['Grasp a lego block and put it in the bin.']\n",
      "['Grasp a lego block and put it in the bin.']\n",
      "['Grasp a lego block and put it in the bin.']\n",
      "['Grasp a lego block and put it in the bin.']\n",
      "['Grasp a lego block and put it in the bin.']\n",
      "['Grasp a lego block and put it in the bin.']\n",
      "['Grasp a lego block and put it in the bin.']\n",
      "['Grasp a lego block and put it in the bin.']\n",
      "['Grasp a lego block and put it in the bin.']\n",
      "['Grasp a lego block and put it in the bin.']\n",
      "['Grasp a lego block and put it in the bin.']\n",
      "['Grasp a lego block and put it in the bin.']\n",
      "['Grasp a lego block and put it in the bin.']\n",
      "['Grasp a lego block and put it in the bin.']\n",
      "['Grasp a lego block and put it in the bin.']\n",
      "['Grasp a lego block and put it in the bin.']\n",
      "['Grasp a lego block and put it in the bin.']\n",
      "['Grasp a lego block and put it in the bin.']\n",
      "['Grasp a lego block and put it in the bin.']\n",
      "['Grasp a lego block and put it in the bin.']\n",
      "['Grasp a lego block and put it in the bin.']\n",
      "['Grasp a lego block and put it in the bin.']\n",
      "['Grasp a lego block and put it in the bin.']\n"
     ]
    },
    {
     "name": "stderr",
     "output_type": "stream",
     "text": [
      " 87%|█████████████████████████████████████████████████████████████████████████████████████████▏            | 391/447 [00:03<00:00, 111.85it/s]"
     ]
    },
    {
     "name": "stdout",
     "output_type": "stream",
     "text": [
      "['Grasp a lego block and put it in the bin.']\n",
      "['Grasp a lego block and put it in the bin.']\n",
      "['Grasp a lego block and put it in the bin.']\n",
      "['Grasp a lego block and put it in the bin.']\n",
      "['Grasp a lego block and put it in the bin.']\n",
      "['Grasp a lego block and put it in the bin.']\n",
      "['Grasp a lego block and put it in the bin.']\n",
      "['Grasp a lego block and put it in the bin.']\n",
      "['Grasp a lego block and put it in the bin.']\n",
      "['Grasp a lego block and put it in the bin.']\n",
      "['Grasp a lego block and put it in the bin.']\n",
      "['Grasp a lego block and put it in the bin.']\n",
      "['Grasp a lego block and put it in the bin.']\n",
      "['Grasp a lego block and put it in the bin.']\n",
      "['Grasp a lego block and put it in the bin.']\n",
      "['Grasp a lego block and put it in the bin.']\n",
      "['Grasp a lego block and put it in the bin.']\n",
      "['Grasp a lego block and put it in the bin.']\n",
      "['Grasp a lego block and put it in the bin.']\n",
      "['Grasp a lego block and put it in the bin.']\n",
      "['Grasp a lego block and put it in the bin.']\n",
      "['Grasp a lego block and put it in the bin.']\n",
      "['Grasp a lego block and put it in the bin.']\n"
     ]
    },
    {
     "name": "stderr",
     "output_type": "stream",
     "text": [
      " 93%|██████████████████████████████████████████████████████████████████████████████████████████████▋       | 415/447 [00:03<00:00, 112.26it/s]"
     ]
    },
    {
     "name": "stdout",
     "output_type": "stream",
     "text": [
      "['Grasp a lego block and put it in the bin.']\n",
      "['Grasp a lego block and put it in the bin.']\n",
      "['Grasp a lego block and put it in the bin.']\n",
      "['Grasp a lego block and put it in the bin.']\n",
      "['Grasp a lego block and put it in the bin.']\n",
      "['Grasp a lego block and put it in the bin.']\n",
      "['Grasp a lego block and put it in the bin.']\n",
      "['Grasp a lego block and put it in the bin.']\n",
      "['Grasp a lego block and put it in the bin.']\n",
      "['Grasp a lego block and put it in the bin.']\n",
      "['Grasp a lego block and put it in the bin.']\n",
      "['Grasp a lego block and put it in the bin.']\n",
      "['Grasp a lego block and put it in the bin.']\n",
      "['Grasp a lego block and put it in the bin.']\n",
      "['Grasp a lego block and put it in the bin.']\n",
      "['Grasp a lego block and put it in the bin.']\n",
      "['Grasp a lego block and put it in the bin.']\n",
      "['Grasp a lego block and put it in the bin.']\n",
      "['Grasp a lego block and put it in the bin.']\n",
      "['Grasp a lego block and put it in the bin.']\n",
      "['Grasp a lego block and put it in the bin.']\n",
      "['Grasp a lego block and put it in the bin.']\n",
      "['Grasp a lego block and put it in the bin.']\n"
     ]
    },
    {
     "name": "stderr",
     "output_type": "stream",
     "text": [
      " 98%|████████████████████████████████████████████████████████████████████████████████████████████████████▏ | 439/447 [00:04<00:00, 108.95it/s]"
     ]
    },
    {
     "name": "stdout",
     "output_type": "stream",
     "text": [
      "['Grasp a lego block and put it in the bin.']\n",
      "['Grasp a lego block and put it in the bin.']\n",
      "['Grasp a lego block and put it in the bin.']\n",
      "['Grasp a lego block and put it in the bin.']\n",
      "['Grasp a lego block and put it in the bin.']\n",
      "['Grasp a lego block and put it in the bin.']\n",
      "['Grasp a lego block and put it in the bin.']\n",
      "['Grasp a lego block and put it in the bin.']\n",
      "['Grasp a lego block and put it in the bin.']\n",
      "['Grasp a lego block and put it in the bin.']\n",
      "['Grasp a lego block and put it in the bin.']\n",
      "['Grasp a lego block and put it in the bin.']\n",
      "['Grasp a lego block and put it in the bin.']\n",
      "['Grasp a lego block and put it in the bin.']\n",
      "['Grasp a lego block and put it in the bin.']\n",
      "['Grasp a lego block and put it in the bin.']\n",
      "['Grasp a lego block and put it in the bin.']\n",
      "['Grasp a lego block and put it in the bin.']\n",
      "['Grasp a lego block and put it in the bin.']\n",
      "['Grasp a lego block and put it in the bin.']\n",
      "['Grasp a lego block and put it in the bin.']\n"
     ]
    },
    {
     "name": "stderr",
     "output_type": "stream",
     "text": [
      "100%|██████████████████████████████████████████████████████████████████████████████████████████████████████| 447/447 [00:04<00:00, 106.21it/s]"
     ]
    },
    {
     "name": "stdout",
     "output_type": "stream",
     "text": [
      "['Grasp a lego block and put it in the bin.']\n",
      "['Grasp a lego block and put it in the bin.']\n",
      "['Grasp a lego block and put it in the bin.']\n",
      "['Grasp a lego block and put it in the bin.']\n",
      "['Grasp a lego block and put it in the bin.']\n",
      "['Grasp a lego block and put it in the bin.']\n",
      "['Grasp a lego block and put it in the bin.']\n",
      "['Grasp a lego block and put it in the bin.']\n"
     ]
    },
    {
     "name": "stderr",
     "output_type": "stream",
     "text": [
      "\n"
     ]
    }
   ],
   "source": [
    "for batch in tqdm.tqdm(dataloader, total=len(dataloader)):\n",
    "    # iterate over the batch\n",
    "    print(batch['task'])"
   ]
  },
  {
   "cell_type": "code",
   "execution_count": 12,
   "id": "e50afec2-3cd5-4f4c-968b-c13f7bc66f9e",
   "metadata": {},
   "outputs": [
    {
     "data": {
      "text/plain": [
       "894"
      ]
     },
     "execution_count": 12,
     "metadata": {},
     "output_type": "execute_result"
    }
   ],
   "source": [
    "len(dataset)"
   ]
  },
  {
   "cell_type": "code",
   "execution_count": null,
   "id": "40d08926-900d-4883-b06a-69a1dc21b2c3",
   "metadata": {},
   "outputs": [],
   "source": []
  }
 ],
 "metadata": {
  "kernelspec": {
   "display_name": "Python 3 (ipykernel)",
   "language": "python",
   "name": "python3"
  },
  "language_info": {
   "codemirror_mode": {
    "name": "ipython",
    "version": 3
   },
   "file_extension": ".py",
   "mimetype": "text/x-python",
   "name": "python",
   "nbconvert_exporter": "python",
   "pygments_lexer": "ipython3",
   "version": "3.10.17"
  }
 },
 "nbformat": 4,
 "nbformat_minor": 5
}
